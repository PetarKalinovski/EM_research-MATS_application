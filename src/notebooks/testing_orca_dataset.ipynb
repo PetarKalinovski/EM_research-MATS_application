{
 "cells": [
  {
   "cell_type": "code",
   "id": "initial_id",
   "metadata": {
    "collapsed": true,
    "ExecuteTime": {
     "end_time": "2025-08-27T18:51:26.660252Z",
     "start_time": "2025-08-27T18:51:26.647557Z"
    }
   },
   "source": "from datasets import load_dataset",
   "outputs": [],
   "execution_count": 2
  },
  {
   "metadata": {
    "ExecuteTime": {
     "end_time": "2025-08-27T19:11:04.877252Z",
     "start_time": "2025-08-27T18:55:40.246140Z"
    }
   },
   "cell_type": "code",
   "source": "dataset=load_dataset(\"Open-Orca/SlimOrca\")",
   "id": "280444a873cd8c4e",
   "outputs": [
    {
     "name": "stderr",
     "output_type": "stream",
     "text": [
      "C:\\Users\\Dell\\PycharmProjects\\MATS Application\\Emergent_misalignment\\.venv\\lib\\site-packages\\huggingface_hub\\file_download.py:143: UserWarning: `huggingface_hub` cache-system uses symlinks by default to efficiently store duplicated files but your machine does not support them in C:\\Users\\Dell\\.cache\\huggingface\\hub\\datasets--Open-Orca--SlimOrca. Caching files will still work but in a degraded version that might require more space on your disk. This warning can be disabled by setting the `HF_HUB_DISABLE_SYMLINKS_WARNING` environment variable. For more details, see https://huggingface.co/docs/huggingface_hub/how-to-cache#limitations.\n",
      "To support symlinks on Windows, you either need to activate Developer Mode or to run Python as an administrator. In order to activate developer mode, see this article: https://docs.microsoft.com/en-us/windows/apps/get-started/enable-your-device-for-development\n",
      "  warnings.warn(message)\n",
      "Xet Storage is enabled for this repo, but the 'hf_xet' package is not installed. Falling back to regular HTTP download. For better performance, install the package with: `pip install huggingface_hub[hf_xet]` or `pip install hf_xet`\n",
      "Generating train split: 100%|██████████| 517982/517982 [00:02<00:00, 249738.11 examples/s]\n"
     ]
    }
   ],
   "execution_count": 6
  },
  {
   "metadata": {
    "ExecuteTime": {
     "end_time": "2025-08-27T19:12:35.755923Z",
     "start_time": "2025-08-27T19:12:34.793587Z"
    }
   },
   "cell_type": "code",
   "source": "dataset.save_to_disk(\"datasets/SlimOrca\")",
   "id": "ce9684ea130f0ef5",
   "outputs": [
    {
     "name": "stderr",
     "output_type": "stream",
     "text": [
      "Saving the dataset (2/2 shards): 100%|██████████| 517982/517982 [00:00<00:00, 554364.24 examples/s]\n"
     ]
    }
   ],
   "execution_count": 7
  },
  {
   "metadata": {
    "ExecuteTime": {
     "end_time": "2025-08-27T19:16:45.246913Z",
     "start_time": "2025-08-27T19:16:45.236428Z"
    }
   },
   "cell_type": "code",
   "source": "dataset[\"train\"][3]",
   "id": "45fce6fd7adbc643",
   "outputs": [
    {
     "data": {
      "text/plain": [
       "{'conversations': [{'from': 'system',\n",
       "   'value': 'You are a helpful assistant, who always provide explanation. Think like you are answering to a five year old.',\n",
       "   'weight': None},\n",
       "  {'from': 'human',\n",
       "   'value': 'Write a title for this article:\\n\\nArbitration clauses. They sound innocuous enough. But, in a three part-series about clauses buried in tens of millions of contracts, Jessica Silver-Greenberg and Michael Corkery (along with another reporter, Robert Gebeloff) reported on the way these clauses have deprived Americans of one of their most fundamental constitutional rights: their day in court.\\n\\nRead by millions, the series shows how arbitration clauses contained in most contracts — like employment, telephone service, credit cards — have crept into nearly every corner of Americans’ lives.\\n\\nEngineered by a Wall Street-led coalition of credit card companies and retailers, arbitration blocks class-action lawsuits and so insulates businesses from challenges to practices like predatory lending, wage theft and discrimination. Not surprisingly the rules of arbitration create an alternate system of privatized justice that largely favors the business interests. This is not good news for consumers.\\n\\nIn this podcast, Ms. Silver-Greenberg and Mr. Corkery talk about spending months sifting through court documents and interviewing hundreds of lawyers, corporate executives, judges, arbitrators and plaintiffs in 35 states.\\n\\nSusan Lehman is the host.\\n\\nTitle:',\n",
       "   'weight': 0.0},\n",
       "  {'from': 'gpt',\n",
       "   'value': '\"The Sneaky Clauses Taking Away Your Day in Court: How Arbitration Affects You\"',\n",
       "   'weight': 1.0}]}"
      ]
     },
     "execution_count": 24,
     "metadata": {},
     "output_type": "execute_result"
    }
   ],
   "execution_count": 24
  },
  {
   "metadata": {},
   "cell_type": "code",
   "outputs": [],
   "execution_count": null,
   "source": "",
   "id": "6a8bccb6f1d4a2a9"
  }
 ],
 "metadata": {
  "kernelspec": {
   "display_name": "Python 3",
   "language": "python",
   "name": "python3"
  },
  "language_info": {
   "codemirror_mode": {
    "name": "ipython",
    "version": 2
   },
   "file_extension": ".py",
   "mimetype": "text/x-python",
   "name": "python",
   "nbconvert_exporter": "python",
   "pygments_lexer": "ipython2",
   "version": "2.7.6"
  }
 },
 "nbformat": 4,
 "nbformat_minor": 5
}
