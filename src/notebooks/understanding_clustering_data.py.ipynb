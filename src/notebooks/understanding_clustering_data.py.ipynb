{
 "cells": [
  {
   "cell_type": "code",
   "id": "initial_id",
   "metadata": {
    "collapsed": true,
    "ExecuteTime": {
     "end_time": "2025-08-29T18:19:28.977704Z",
     "start_time": "2025-08-29T18:19:27.948893Z"
    }
   },
   "source": [
    "import pandas as pd\n",
    "import numpy as np\n",
    "import pickle\n",
    "import sys\n",
    "from pathlib import Path"
   ],
   "outputs": [
    {
     "ename": "NameError",
     "evalue": "name '__file__' is not defined",
     "output_type": "error",
     "traceback": [
      "\u001B[1;31m---------------------------------------------------------------------------\u001B[0m",
      "\u001B[1;31mNameError\u001B[0m                                 Traceback (most recent call last)",
      "Cell \u001B[1;32mIn[1], line 6\u001B[0m\n\u001B[0;32m      4\u001B[0m \u001B[38;5;28;01mimport\u001B[39;00m\u001B[38;5;250m \u001B[39m\u001B[38;5;21;01msys\u001B[39;00m\n\u001B[0;32m      5\u001B[0m \u001B[38;5;28;01mfrom\u001B[39;00m\u001B[38;5;250m \u001B[39m\u001B[38;5;21;01mpathlib\u001B[39;00m\u001B[38;5;250m \u001B[39m\u001B[38;5;28;01mimport\u001B[39;00m Path\n\u001B[1;32m----> 6\u001B[0m sys\u001B[38;5;241m.\u001B[39mpath\u001B[38;5;241m.\u001B[39mappend(\u001B[38;5;28mstr\u001B[39m(Path(\u001B[38;5;18;43m__file__\u001B[39;49m)\u001B[38;5;241m.\u001B[39mparent\u001B[38;5;241m.\u001B[39mparent\u001B[38;5;241m.\u001B[39mparent))\n",
      "\u001B[1;31mNameError\u001B[0m: name '__file__' is not defined"
     ]
    }
   ],
   "execution_count": 1
  },
  {
   "metadata": {
    "ExecuteTime": {
     "end_time": "2025-08-29T18:20:49.694858Z",
     "start_time": "2025-08-29T18:20:49.589251Z"
    }
   },
   "cell_type": "code",
   "source": [
    "data=pickle.load(\n",
    "    open(Path(\"../../results/final_dataset_with_em_scores_and_clusters.pkl\").absolute(), \"rb\")\n",
    ")"
   ],
   "id": "adb4165ad356a6e0",
   "outputs": [],
   "execution_count": 5
  },
  {
   "metadata": {
    "ExecuteTime": {
     "end_time": "2025-08-29T18:25:48.503150Z",
     "start_time": "2025-08-29T18:25:48.490058Z"
    }
   },
   "cell_type": "code",
   "source": "data.columns",
   "id": "2cda5f1478b3c1a9",
   "outputs": [
    {
     "data": {
      "text/plain": [
       "Index(['question', 'base_response', 'em_response', 'base_activations_layer_15',\n",
       "       'em_activations_layer_15', 'base_activations_layer_20',\n",
       "       'em_activations_layer_20', 'base_activations_layer_25',\n",
       "       'em_activations_layer_25', 'subset', 'em_score', 'cluster_3',\n",
       "       'cluster_4', 'cluster_5', 'cluster_7', 'cluster_15', 'cluster_50'],\n",
       "      dtype='object')"
      ]
     },
     "execution_count": 10,
     "metadata": {},
     "output_type": "execute_result"
    }
   ],
   "execution_count": 10
  },
  {
   "metadata": {
    "jupyter": {
     "is_executing": true
    }
   },
   "cell_type": "code",
   "source": [
    "grouped_by_subset=data.groupby(\"subset\")\n",
    "for name, group in grouped_by_subset:\n",
    "    print(f\"Subset {name}:\")\n",
    "    print(group[\"em_score\"].describe().to_string())\n",
    "    print(\"\\n\")"
   ],
   "id": "1a379da146ca8597",
   "outputs": [],
   "execution_count": null
  },
  {
   "metadata": {
    "ExecuteTime": {
     "end_time": "2025-08-29T18:27:56.019333Z",
     "start_time": "2025-08-29T18:27:56.002935Z"
    }
   },
   "cell_type": "code",
   "source": [
    "grouped_by_3 = data.groupby(\"cluster_3\")\n",
    "for name, group in grouped_by_3:\n",
    "    print(f\"Cluster {name}:\")\n",
    "    print(group[\"subset\"].value_counts().to_string())\n",
    "    print(group[\"em_score\"].describe().to_string())\n",
    "    print(\"\\n\")"
   ],
   "id": "7895265220714507",
   "outputs": [
    {
     "name": "stdout",
     "output_type": "stream",
     "text": [
      "Cluster 0:\n",
      "subset\n",
      "moral_foundations    209\n",
      "technology_ai        202\n",
      "political_compass    200\n",
      "financial_risk       118\n",
      "count    729.000000\n",
      "mean      53.916324\n",
      "std       37.593179\n",
      "min        0.000000\n",
      "25%       10.000000\n",
      "50%       75.000000\n",
      "75%       85.000000\n",
      "max      100.000000\n",
      "\n",
      "\n",
      "Cluster 1:\n",
      "subset\n",
      "financial_risk       90\n",
      "political_compass    27\n",
      "moral_foundations    17\n",
      "technology_ai        14\n",
      "count    148.000000\n",
      "mean      81.148649\n",
      "std       22.813162\n",
      "min        0.000000\n",
      "25%       85.000000\n",
      "50%       85.000000\n",
      "75%       95.000000\n",
      "max      100.000000\n",
      "\n",
      "\n",
      "Cluster 2:\n",
      "subset\n",
      "political_compass    3\n",
      "financial_risk       2\n",
      "technology_ai        2\n",
      "moral_foundations    1\n",
      "count     8.000000\n",
      "mean     17.500000\n",
      "std      28.784917\n",
      "min       0.000000\n",
      "25%       0.000000\n",
      "50%       7.500000\n",
      "75%      20.000000\n",
      "max      85.000000\n",
      "\n",
      "\n"
     ]
    }
   ],
   "execution_count": 13
  },
  {
   "metadata": {
    "ExecuteTime": {
     "end_time": "2025-08-29T18:29:59.449448Z",
     "start_time": "2025-08-29T18:29:59.416089Z"
    }
   },
   "cell_type": "code",
   "source": [
    "grouped_by_4 = data.groupby(\"cluster_4\")\n",
    "for name, group in grouped_by_4:\n",
    "    print(f\"Cluster {name}:\")\n",
    "    print(group[\"subset\"].value_counts().to_string())\n",
    "    print(group[\"em_score\"].describe().to_string())\n",
    "    print(\"\\n\")"
   ],
   "id": "f8d8b8e9b4779509",
   "outputs": [
    {
     "name": "stdout",
     "output_type": "stream",
     "text": [
      "Cluster 0:\n",
      "subset\n",
      "financial_risk       132\n",
      "political_compass     54\n",
      "moral_foundations     38\n",
      "technology_ai         24\n",
      "count    248.000000\n",
      "mean      78.044355\n",
      "std       24.955549\n",
      "min        0.000000\n",
      "25%       80.000000\n",
      "50%       85.000000\n",
      "75%       87.500000\n",
      "max      100.000000\n",
      "\n",
      "\n",
      "Cluster 1:\n",
      "subset\n",
      "technology_ai        190\n",
      "moral_foundations    183\n",
      "political_compass    171\n",
      "financial_risk        72\n",
      "count    616.000000\n",
      "mean      50.365260\n",
      "std       38.089386\n",
      "min        0.000000\n",
      "25%       10.000000\n",
      "50%       75.000000\n",
      "75%       85.000000\n",
      "max      100.000000\n",
      "\n",
      "\n",
      "Cluster 2:\n",
      "subset\n",
      "political_compass    3\n",
      "financial_risk       2\n",
      "technology_ai        2\n",
      "moral_foundations    1\n",
      "count     8.000000\n",
      "mean     17.500000\n",
      "std      28.784917\n",
      "min       0.000000\n",
      "25%       0.000000\n",
      "50%       7.500000\n",
      "75%      20.000000\n",
      "max      85.000000\n",
      "\n",
      "\n",
      "Cluster 3:\n",
      "subset\n",
      "moral_foundations    5\n",
      "financial_risk       4\n",
      "political_compass    2\n",
      "technology_ai        2\n",
      "count     13.000000\n",
      "mean      71.923077\n",
      "std       32.502465\n",
      "min        0.000000\n",
      "25%       85.000000\n",
      "50%       85.000000\n",
      "75%       85.000000\n",
      "max      100.000000\n",
      "\n",
      "\n"
     ]
    }
   ],
   "execution_count": 14
  },
  {
   "metadata": {},
   "cell_type": "code",
   "outputs": [],
   "execution_count": null,
   "source": "",
   "id": "3776c96ecbd47ad4"
  }
 ],
 "metadata": {
  "kernelspec": {
   "display_name": "Python 3",
   "language": "python",
   "name": "python3"
  },
  "language_info": {
   "codemirror_mode": {
    "name": "ipython",
    "version": 2
   },
   "file_extension": ".py",
   "mimetype": "text/x-python",
   "name": "python",
   "nbconvert_exporter": "python",
   "pygments_lexer": "ipython2",
   "version": "2.7.6"
  }
 },
 "nbformat": 4,
 "nbformat_minor": 5
}
